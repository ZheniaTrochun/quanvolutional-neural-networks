{
 "cells": [
  {
   "cell_type": "code",
   "execution_count": 1,
   "metadata": {},
   "outputs": [],
   "source": [
    "import matplotlib.pyplot as plt\n",
    "import pandas as pd\n",
    "import numpy as np\n",
    "import torch\n",
    "import torch.nn as nn\n",
    "import torch.nn.functional as F\n",
    "import torchvision\n",
    "import torchvision.transforms as transforms\n",
    "from torch.utils.data import DataLoader\n",
    "from torch.utils.data import random_split\n",
    "import seaborn as sns"
   ]
  },
  {
   "cell_type": "code",
   "execution_count": 5,
   "metadata": {},
   "outputs": [],
   "source": [
    "INPUT_PATH = \"/mnt/d/PHD/hurricane_data_results/W4_X_s2/\"\n",
    "TRAIN_FILENAME_PREFIX = \"QNN_TRAIN_CPU_hurricane_W4_X_\""
   ]
  },
  {
   "cell_type": "code",
   "execution_count": 8,
   "metadata": {},
   "outputs": [],
   "source": [
    "train_start = 0\n",
    "train_end = 5000\n",
    "\n",
    "test_start = 0\n",
    "test_end = 10000\n",
    "\n",
    "def concat_parts(filename_prefix, start, end, step):\n",
    "    q_train_images = np.load(INPUT_PATH + filename_prefix + f\"S{start}_E{start + step}_s2.npy\")\n",
    "    for i in range(int((end - start) / step) - 1):\n",
    "        step_start = start + step * (i + 1)\n",
    "        step_end = step_start + step\n",
    "        q_train_images_part = np.load(INPUT_PATH + filename_prefix + f\"S{step_start}_E{step_end}_s2.npy\")\n",
    "        q_train_images = np.concatenate((q_train_images, q_train_images_part), axis=0)\n",
    "\n",
    "    np.save(INPUT_PATH + filename_prefix + f\"S{start}_E{end}_s2.npy\", q_train_images)"
   ]
  },
  {
   "cell_type": "code",
   "execution_count": 10,
   "metadata": {},
   "outputs": [],
   "source": [
    "concat_parts(TRAIN_FILENAME_PREFIX, 1000, 10000, 100)"
   ]
  },
  {
   "cell_type": "code",
   "execution_count": 11,
   "metadata": {},
   "outputs": [],
   "source": [
    "x = np.load(INPUT_PATH + TRAIN_FILENAME_PREFIX + \"S0_E1000_s2.npy\")\n",
    "y = np.load(INPUT_PATH + TRAIN_FILENAME_PREFIX + \"S1000_E10000_s2.npy\")\n",
    "\n",
    "np.save(INPUT_PATH + TRAIN_FILENAME_PREFIX + \"S0_E10000_s2.npy\", np.concatenate((x, y), axis=0))"
   ]
  },
  {
   "cell_type": "code",
   "execution_count": null,
   "metadata": {},
   "outputs": [],
   "source": []
  }
 ],
 "metadata": {
  "kernelspec": {
   "display_name": "Python 3 (ipykernel)",
   "language": "python",
   "name": "python3"
  },
  "language_info": {
   "codemirror_mode": {
    "name": "ipython",
    "version": 3
   },
   "file_extension": ".py",
   "mimetype": "text/x-python",
   "name": "python",
   "nbconvert_exporter": "python",
   "pygments_lexer": "ipython3",
   "version": "3.10.12"
  }
 },
 "nbformat": 4,
 "nbformat_minor": 2
}
